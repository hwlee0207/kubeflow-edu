{
 "cells": [
  {
   "cell_type": "code",
   "execution_count": null,
   "metadata": {},
   "outputs": [
    {
     "name": "stderr",
     "output_type": "stream",
     "text": [
      "[I 201207 13:50:40 config:134] Using preprocessor: <kubeflow.fairing.preprocessors.converted_notebook.ConvertNotebookPreprocessor object at 0x7fa9f751ea90>\n",
      "[I 201207 13:50:40 config:136] Using builder: <kubeflow.fairing.builders.append.append.AppendBuilder object at 0x7fa9f44ed898>\n",
      "[I 201207 13:50:40 config:138] Using deployer: <kubeflow.fairing.deployers.job.job.Job object at 0x7fa9f44ed860>\n",
      "[W 201207 13:50:40 append:50] Building image using Append builder...\n",
      "[I 201207 13:50:40 base:107] Creating docker context: /tmp/fairing_context_ytjo0_a7\n",
      "[I 201207 13:50:40 converted_notebook:127] Converting 03-A-notebook-to-fairing.ipynb to 03-A-notebook-to-fairing.py\n",
      "[I 201207 13:50:40 docker_creds_:234] Loading Docker credentials for repository 'kubeflow-registry.default.svc.cluster.local:30000/kf-base:latest'\n",
      "[W 201207 13:50:40 append:54] Image successfully built in 0.1084787090003374s.\n",
      "[W 201207 13:50:40 append:94] Pushing image kubeflow-registry.default.svc.cluster.local:30000/my-03-notebook-fairing-job:F422D00B...\n",
      "[I 201207 13:50:40 docker_creds_:234] Loading Docker credentials for repository 'kubeflow-registry.default.svc.cluster.local:30000/my-03-notebook-fairing-job:F422D00B'\n",
      "[W 201207 13:50:40 append:81] Uploading kubeflow-registry.default.svc.cluster.local:30000/my-03-notebook-fairing-job:F422D00B\n",
      "[I 201207 13:50:40 docker_session_:284] Layer sha256:6a5e6a8a8e81444eabf1c2b7e70ee69377ae1d98b6ec8153addb9a83e0f00877 pushed.\n",
      "[I 201207 13:50:40 docker_session_:284] Layer sha256:edc69fe5c6be6938f490e5f91cdb6369799b4a509fd72c292e0cd6fdb3c345b3 pushed.\n",
      "[I 201207 13:50:40 docker_session_:284] Layer sha256:c8e37668deea784f47c8726d934adc12b8d20a2b1c50b0b0c18cb62771cd3684 pushed.\n",
      "[I 201207 13:50:40 docker_session_:284] Layer sha256:0d3160e1d0de4061b5b32ee09af687b898921d36ed9556df5910ddc3104449cd pushed.\n",
      "[I 201207 13:50:40 docker_session_:284] Layer sha256:107f0b841886b4e032a6ced874db81b71dcdc5e6827b6c0d195defe4c6e661da pushed.\n",
      "[I 201207 13:50:40 docker_session_:284] Layer sha256:0e3a4232e1007ed2b664fd2fe1dc2d0dc85da67feedbc55150872fd408730053 pushed.\n",
      "[I 201207 13:50:40 docker_session_:284] Layer sha256:75c61371a2e390c1d05234b28163580c90c2e26c6d245984a4da73f9f022c102 pushed.\n",
      "[I 201207 13:50:41 docker_session_:284] Layer sha256:e52cad4ccd832fc331516c5a5632fdd08c37d711ff243c7e04d6e8c374b9c474 pushed.\n",
      "[I 201207 13:50:41 docker_session_:284] Layer sha256:2746a4a261c9e18bfd7ff0429c18fd7522acc14fa4c7ec8ab37ba5ebaadbc584 pushed.\n",
      "[I 201207 13:50:41 docker_session_:284] Layer sha256:4c1d20cdee96111c8acf1858b62655a37ce81ae48648993542b7ac363ac5c0e5 pushed.\n",
      "[I 201207 13:50:41 docker_session_:284] Layer sha256:8592f093fc78e0d933851ed625592627241c475dd46adad77f37dec9cc867446 pushed.\n",
      "[I 201207 13:50:43 docker_session_:284] Layer sha256:699cac52ca5314147aa7b688940de3de9b5f57ec53ff404fa55c37091acef1fe pushed.\n",
      "[I 201207 13:50:43 docker_session_:284] Layer sha256:da003f371504e5c97e9a8ca1438731499f0a4e258fe907bb6675c0f0412cb70d pushed.\n",
      "[I 201207 13:50:45 docker_session_:284] Layer sha256:e97116da5f9876a95d0d3f0fd1e3bcc48721f9ac6351ce23aaa3d261b4f9b0d6 pushed.\n",
      "[I 201207 13:50:58 docker_session_:284] Layer sha256:dccb0709d7fb37e513a933c3848be077f0e514e41a084bd9f3f27dcde169ae20 pushed.\n",
      "[I 201207 13:50:58 docker_session_:334] Finished upload of: kubeflow-registry.default.svc.cluster.local:30000/my-03-notebook-fairing-job:F422D00B\n",
      "[W 201207 13:50:58 append:99] Pushed image kubeflow-registry.default.svc.cluster.local:30000/my-03-notebook-fairing-job:F422D00B in 18.280652501000077s.\n",
      "[W 201207 13:50:58 job:101] The job fairing-job-7l2ck launched.\n",
      "[W 201207 13:50:58 manager:298] Waiting for fairing-job-7l2ck-gmqnq to start...\n",
      "[W 201207 13:50:58 manager:298] Waiting for fairing-job-7l2ck-gmqnq to start...\n",
      "[W 201207 13:50:58 manager:298] Waiting for fairing-job-7l2ck-gmqnq to start...\n",
      "[I 201207 13:51:01 manager:304] Pod started running True\n"
     ]
    },
    {
     "name": "stdout",
     "output_type": "stream",
     "text": [
      "2020-12-07 13:51:02.510678: W tensorflow/stream_executor/platform/default/dso_loader.cc:55] Could not load dynamic library 'libnvinfer.so.6'; dlerror: libnvinfer.so.6: cannot open shared object file: No such file or directory\n",
      "2020-12-07 13:51:02.510824: W tensorflow/stream_executor/platform/default/dso_loader.cc:55] Could not load dynamic library 'libnvinfer_plugin.so.6'; dlerror: libnvinfer_plugin.so.6: cannot open shared object file: No such file or directory\n",
      "2020-12-07 13:51:02.510837: W tensorflow/compiler/tf2tensorrt/utils/py_utils.cc:30] Cannot dlopen some TensorRT libraries. If you would like to use Nvidia GPU with TensorRT, please make sure the missing libraries mentioned above are installed properly.\n",
      "Downloading data from https://storage.googleapis.com/tensorflow/tf-keras-datasets/mnist.npz\n",
      "11493376/11490434 [==============================] - 0s 0us/step\n",
      "2020-12-07 13:51:04.784214: W tensorflow/stream_executor/platform/default/dso_loader.cc:55] Could not load dynamic library 'libcuda.so.1'; dlerror: libcuda.so.1: cannot open shared object file: No such file or directory\n",
      "2020-12-07 13:51:04.784254: E tensorflow/stream_executor/cuda/cuda_driver.cc:351] failed call to cuInit: UNKNOWN ERROR (303)\n",
      "2020-12-07 13:51:04.784283: I tensorflow/stream_executor/cuda/cuda_diagnostics.cc:156] kernel driver does not appear to be running on this host (fairing-job-7l2ck-gmqnq): /proc/driver/nvidia/version does not exist\n",
      "2020-12-07 13:51:04.784544: I tensorflow/core/platform/cpu_feature_guard.cc:142] Your CPU supports instructions that this TensorFlow binary was not compiled to use: AVX2 FMA\n",
      "2020-12-07 13:51:04.791899: I tensorflow/core/platform/profile_utils/cpu_utils.cc:94] CPU Frequency: 2300000000 Hz\n",
      "2020-12-07 13:51:04.792420: I tensorflow/compiler/xla/service/service.cc:168] XLA service 0x573b3c0 initialized for platform Host (this does not guarantee that XLA will be used). Devices:\n",
      "2020-12-07 13:51:04.792453: I tensorflow/compiler/xla/service/service.cc:176]   StreamExecutor device (0): Host, Default Version\n",
      "2020-12-07 13:51:04.894785: W tensorflow/core/framework/cpu_allocator_impl.cc:81] Allocation of 301056000 exceeds 10% of system memory.\n",
      "Model: \"sequential\"\n",
      "_________________________________________________________________\n",
      "Layer (type)                 Output Shape              Param #\n",
      "=================================================================\n",
      "flatten (Flatten)            (None, 784)               0\n",
      "_________________________________________________________________\n",
      "dense (Dense)                (None, 128)               100480\n",
      "_________________________________________________________________\n",
      "dropout (Dropout)            (None, 128)               0\n",
      "_________________________________________________________________\n",
      "dense_1 (Dense)              (None, 10)                1290\n",
      "=================================================================\n",
      "Total params: 101,770\n",
      "Trainable params: 101,770\n",
      "Non-trainable params: 0\n",
      "_________________________________________________________________\n",
      "Training...\n",
      "Train on 48000 samples, validate on 12000 samples\n",
      "Epoch 1/3\n",
      " 2432/48000 [>.............................] - ETA: 13s - loss: 1.1802 - accuracy: 0.6623    \n",
      " 6112/48000 [==>...........................] - ETA: 8s - loss: 0.7149 - accuracy: 0.7679\n",
      " 9824/48000 [=====>........................] - ETA: 7s - loss: 0.6490 - accuracy: 0.81\n",
      "12992/48000 [=======>......................] - ETA: 6s - loss: 0.5640 - accuracy: 0.838\n",
      "16736/48000 [=========>....................] - ETA: 5s - loss: 0.5082 - accuracy: 0.853\n",
      "20512/48000 [===========>..................] - ETA: 4s - loss: 0.4680 - accuracy: 0.864\n",
      "24352/48000 [==============>...............] - ETA: 4s - loss: 0.4414 - accuracy: 0.87\n",
      "28160/48000 [================>.............] - ETA: 3s - loss: 0.4169 - accuracy: 0.88\n",
      "31296/48000 [==================>...........] - ETA: 2s - loss: 0.3964 - accuracy: 0.88\n",
      "35136/48000 [====================>.........] - ETA: 2s - loss: 0.3770 - accuracy: 0.89\n",
      "38944/48000 [=======================>......] - ETA: 1s - loss: 0.3612 - accuracy: 0.89\n",
      "42752/48000 [=========================>....] - ETA: 0s - loss: 0.3486 - accuracy: 0.89\n",
      "46920/48000 [===========================>..] - ETA: 0s - loss: 0.3380 - accuracy: 0.90\n",
      "48000/48000 [==============================] - 9s 189us/sample - loss: 0.3319 - accuracy: 0.9044 - val_loss: 0.1576 - val_accuracy: 0.9538\n",
      "Epoch 2/3\n"
     ]
    }
   ],
   "source": [
    "from kubeflow import fairing\n",
    "from kubeflow.fairing.kubernetes import utils as k8s_utils\n",
    "\n",
    "PRIVATE_REGISTRY = 'kubeflow-registry.default.svc.cluster.local:30000'\n",
    "\n",
    "fairing.config.set_preprocessor(\n",
    "    'notebook', \n",
    "    notebook_file = '03-A-notebook-to-fairing.ipynb'\n",
    ")\n",
    "\n",
    "fairing.config.set_builder(\n",
    "    'append',\n",
    "    base_image=f'{PRIVATE_REGISTRY}/kf-base:latest', # 사전준비에서 마련한 Base Image\n",
    "    registry = PRIVATE_REGISTRY,\n",
    "    image_name='my-03-notebook-fairing-job', \n",
    "    push=True\n",
    ")\n",
    "\n",
    "fairing.config.set_deployer(\n",
    "    'job',\n",
    "    namespace='myspace',\n",
    "    pod_spec_mutators=[\n",
    "        k8s_utils.get_resource_mutator(cpu=1, memory=5)]\n",
    ")\n",
    "\n",
    "fairing.config.run()"
   ]
  },
  {
   "cell_type": "code",
   "execution_count": null,
   "metadata": {},
   "outputs": [],
   "source": []
  }
 ],
 "metadata": {
  "kernelspec": {
   "display_name": "Python 3",
   "language": "python",
   "name": "python3"
  },
  "kubeflow_notebook": {
   "docker_image": "reddiana/jupyterlab-kale:0.0.9",
   "experiment": {
    "id": "",
    "name": ""
   },
   "experiment_name": "",
   "katib_metadata": {
    "algorithm": {
     "algorithmName": "grid"
    },
    "maxFailedTrialCount": 3,
    "maxTrialCount": 12,
    "objective": {
     "objectiveMetricName": "",
     "type": "minimize"
    },
    "parallelTrialCount": 3,
    "parameters": []
   },
   "katib_run": false,
   "pipeline_description": "",
   "pipeline_name": "",
   "volumes": []
  },
  "language_info": {
   "codemirror_mode": {
    "name": "ipython",
    "version": 3
   },
   "file_extension": ".py",
   "mimetype": "text/x-python",
   "name": "python",
   "nbconvert_exporter": "python",
   "pygments_lexer": "ipython3",
   "version": "3.6.9"
  }
 },
 "nbformat": 4,
 "nbformat_minor": 4
}
