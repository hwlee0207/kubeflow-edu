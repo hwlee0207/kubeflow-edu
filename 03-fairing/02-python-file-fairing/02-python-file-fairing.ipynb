{
 "cells": [
  {
   "cell_type": "code",
   "execution_count": 1,
   "metadata": {
    "tags": []
   },
   "outputs": [
    {
     "name": "stderr",
     "output_type": "stream",
     "text": [
      "[I 201207 13:41:50 config:134] Using preprocessor: <kubeflow.fairing.preprocessors.base.BasePreProcessor object at 0x7fd1a05ef4a8>\n",
      "[I 201207 13:41:50 config:136] Using builder: <kubeflow.fairing.builders.append.append.AppendBuilder object at 0x7fd1a05ef3c8>\n",
      "[I 201207 13:41:50 config:138] Using deployer: <kubeflow.fairing.deployers.job.job.Job object at 0x7fd1a05ef470>\n",
      "[W 201207 13:41:50 append:50] Building image using Append builder...\n",
      "[I 201207 13:41:50 base:107] Creating docker context: /tmp/fairing_context_ofezrkfc\n",
      "[I 201207 13:41:50 docker_creds_:234] Loading Docker credentials for repository 'kubeflow-registry.default.svc.cluster.local:30000/kf-base:latest'\n",
      "[W 201207 13:41:50 append:54] Image successfully built in 0.029696974999751546s.\n",
      "[W 201207 13:41:50 append:94] Pushing image kubeflow-registry.default.svc.cluster.local:30000/my-02-python-file-fairing:E2683407...\n",
      "[I 201207 13:41:50 docker_creds_:234] Loading Docker credentials for repository 'kubeflow-registry.default.svc.cluster.local:30000/my-02-python-file-fairing:E2683407'\n",
      "[W 201207 13:41:50 append:81] Uploading kubeflow-registry.default.svc.cluster.local:30000/my-02-python-file-fairing:E2683407\n",
      "[I 201207 13:41:51 docker_session_:284] Layer sha256:c17276c0cff6d783e214eb1398c176c82ee542abb279d4e5d3c548a3be30f691 pushed.\n",
      "[I 201207 13:41:51 docker_session_:284] Layer sha256:edc69fe5c6be6938f490e5f91cdb6369799b4a509fd72c292e0cd6fdb3c345b3 pushed.\n",
      "[I 201207 13:41:51 docker_session_:284] Layer sha256:107f0b841886b4e032a6ced874db81b71dcdc5e6827b6c0d195defe4c6e661da pushed.\n",
      "[I 201207 13:41:51 docker_session_:284] Layer sha256:0d3160e1d0de4061b5b32ee09af687b898921d36ed9556df5910ddc3104449cd pushed.\n",
      "[I 201207 13:41:51 docker_session_:284] Layer sha256:4c1d20cdee96111c8acf1858b62655a37ce81ae48648993542b7ac363ac5c0e5 pushed.\n",
      "[I 201207 13:41:51 docker_session_:284] Layer sha256:8592f093fc78e0d933851ed625592627241c475dd46adad77f37dec9cc867446 pushed.\n",
      "[I 201207 13:41:51 docker_session_:284] Layer sha256:c8e37668deea784f47c8726d934adc12b8d20a2b1c50b0b0c18cb62771cd3684 pushed.\n",
      "[I 201207 13:41:52 docker_session_:284] Layer sha256:75c61371a2e390c1d05234b28163580c90c2e26c6d245984a4da73f9f022c102 pushed.\n",
      "[I 201207 13:41:52 docker_session_:284] Layer sha256:cab4e7cfb3c0fb051f3bfd6620721b172af19789286b40435bc60bfa28a3bbc6 pushed.\n",
      "[I 201207 13:41:52 docker_session_:284] Layer sha256:e52cad4ccd832fc331516c5a5632fdd08c37d711ff243c7e04d6e8c374b9c474 pushed.\n",
      "[I 201207 13:41:53 docker_session_:284] Layer sha256:2746a4a261c9e18bfd7ff0429c18fd7522acc14fa4c7ec8ab37ba5ebaadbc584 pushed.\n",
      "[I 201207 13:41:59 docker_session_:284] Layer sha256:699cac52ca5314147aa7b688940de3de9b5f57ec53ff404fa55c37091acef1fe pushed.\n",
      "[I 201207 13:41:59 docker_session_:284] Layer sha256:da003f371504e5c97e9a8ca1438731499f0a4e258fe907bb6675c0f0412cb70d pushed.\n",
      "[I 201207 13:41:59 docker_session_:284] Layer sha256:e97116da5f9876a95d0d3f0fd1e3bcc48721f9ac6351ce23aaa3d261b4f9b0d6 pushed.\n",
      "[I 201207 13:42:17 docker_session_:284] Layer sha256:dccb0709d7fb37e513a933c3848be077f0e514e41a084bd9f3f27dcde169ae20 pushed.\n",
      "[I 201207 13:42:17 docker_session_:334] Finished upload of: kubeflow-registry.default.svc.cluster.local:30000/my-02-python-file-fairing:E2683407\n",
      "[W 201207 13:42:17 append:99] Pushed image kubeflow-registry.default.svc.cluster.local:30000/my-02-python-file-fairing:E2683407 in 26.52457112800039s.\n",
      "[W 201207 13:42:17 job:101] The job fairing-job-29mnl launched.\n",
      "[W 201207 13:42:17 manager:298] Waiting for fairing-job-29mnl-25zxg to start...\n",
      "[W 201207 13:42:17 manager:298] Waiting for fairing-job-29mnl-25zxg to start...\n",
      "[W 201207 13:42:17 manager:298] Waiting for fairing-job-29mnl-25zxg to start...\n",
      "[I 201207 13:42:18 manager:304] Pod started running True\n"
     ]
    },
    {
     "name": "stdout",
     "output_type": "stream",
     "text": [
      "2020-12-07 13:42:20.387742: W tensorflow/stream_executor/platform/default/dso_loader.cc:55] Could not load dynamic library 'libnvinfer.so.6'; dlerror: libnvinfer.so.6: cannot open shared object file: No such file or directory\n",
      "2020-12-07 13:42:20.387846: W tensorflow/stream_executor/platform/default/dso_loader.cc:55] Could not load dynamic library 'libnvinfer_plugin.so.6'; dlerror: libnvinfer_plugin.so.6: cannot open shared object file: No such file or directory\n",
      "2020-12-07 13:42:20.387865: W tensorflow/compiler/tf2tensorrt/utils/py_utils.cc:30] Cannot dlopen some TensorRT libraries. If you would like to use Nvidia GPU with TensorRT, please make sure the missing libraries mentioned above are installed properly.\n",
      "Downloading data from https://storage.googleapis.com/tensorflow/tf-keras-datasets/mnist.npz\n",
      "11493376/11490434 [==============================] - 0s 0us/step\n",
      "2020-12-07 13:42:21.855682: W tensorflow/stream_executor/platform/default/dso_loader.cc:55] Could not load dynamic library 'libcuda.so.1'; dlerror: libcuda.so.1: cannot open shared object file: No such file or directory\n",
      "2020-12-07 13:42:21.855726: E tensorflow/stream_executor/cuda/cuda_driver.cc:351] failed call to cuInit: UNKNOWN ERROR (303)\n",
      "2020-12-07 13:42:21.855752: I tensorflow/stream_executor/cuda/cuda_diagnostics.cc:156] kernel driver does not appear to be running on this host (fairing-job-29mnl-25zxg): /proc/driver/nvidia/version does not exist\n",
      "2020-12-07 13:42:21.855999: I tensorflow/core/platform/cpu_feature_guard.cc:142] Your CPU supports instructions that this TensorFlow binary was not compiled to use: AVX2 FMA\n",
      "2020-12-07 13:42:21.864310: I tensorflow/core/platform/profile_utils/cpu_utils.cc:94] CPU Frequency: 2300000000 Hz\n",
      "2020-12-07 13:42:21.864961: I tensorflow/compiler/xla/service/service.cc:168] XLA service 0x44006b0 initialized for platform Host (this does not guarantee that XLA will be used). Devices:\n",
      "2020-12-07 13:42:21.865001: I tensorflow/compiler/xla/service/service.cc:176]   StreamExecutor device (0): Host, Default Version\n",
      "2020-12-07 13:42:21.969272: W tensorflow/core/framework/cpu_allocator_impl.cc:81] Allocation of 301056000 exceeds 10% of system memory.\n",
      "Model: \"sequential\"\n",
      "_________________________________________________________________\n",
      "Layer (type)                 Output Shape              Param #\n",
      "=================================================================\n",
      "flatten (Flatten)            (None, 784)               0\n",
      "_________________________________________________________________\n",
      "dense (Dense)                (None, 128)               100480\n",
      "_________________________________________________________________\n",
      "dropout (Dropout)            (None, 128)               0\n",
      "_________________________________________________________________\n",
      "dense_1 (Dense)              (None, 10)                1290\n",
      "=================================================================\n",
      "Total params: 101,770\n",
      "Trainable params: 101,770\n",
      "Non-trainable params: 0\n",
      "_________________________________________________________________\n",
      "Training...\n",
      "Train on 48000 samples, validate on 12000 samples\n",
      "Epoch 1/3\n",
      " 2656/48000 [>.............................] - ETA: 12s - loss: 1.0732 - accuracy: 0.6811\n",
      " 6368/48000 [==>...........................] - ETA: 8s - loss: 0.7276 - accuracy: 0.7715\n",
      "10080/48000 [=====>........................] - ETA: 7s - loss: 0.6158 - accuracy: 0.81\n",
      "13858/48000 [=======>......................] - ETA: 6s - loss: 0.5427 - accuracy: 0.84\n",
      "17024/48000 [=========>....................] - ETA: 5s - loss: 0.4916 - accuracy: 0.856\n",
      "20800/48000 [============>.................] - ETA: 4s - loss: 0.4535 - accuracy: 0.867\n",
      "24576/48000 [==============>...............] - ETA: 4s - loss: 0.4297 - accuracy: 0.87\n",
      "28352/48000 [================>.............] - ETA: 3s - loss: 0.4050 - accuracy: 0.88\n",
      "31552/48000 [==================>...........] - ETA: 2s - loss: 0.3847 - accuracy: 0.88\n",
      "35328/48000 [=====================>........] - ETA: 2s - loss: 0.3672 - accuracy: 0.89\n",
      "39104/48000 [=======================>......] - ETA: 1s - loss: 0.3546 - accuracy: 0.89\n",
      "42304/48000 [=========================>....] - ETA: 0s - loss: 0.3458 - accuracy: 0.90\n",
      "46080/48000 [===========================>..] - ETA: 0s - loss: 0.3352 - accuracy: 0.90\n",
      "48000/48000 [==============================] - 9s 190us/sample - loss: 0.3288 - accuracy: 0.9048 - val_loss: 0.1552 - val_accuracy: 0.9552\n",
      "Epoch 2/3\n",
      " 2048/48000 [>.............................] - ETA: 7s - loss: 0.1678 - accuracy: 0.9518\n",
      " 5856/48000 [==>...........................] - ETA: 6s - loss: 0.1727 - accuracy: 0.950\n",
      " 9632/48000 [=====>........................] - ETA: 6s - loss: 0.1718 - accuracy: 0.95\n",
      "13440/48000 [=======>......................] - ETA: 5s - loss: 0.1721 - accuracy: 0.94\n",
      "16608/48000 [=========>....................] - ETA: 4s - loss: 0.1670 - accuracy: 0.95\n",
      "20416/48000 [===========>..................] - ETA: 4s - loss: 0.1663 - accuracy: 0.95\n",
      "24192/48000 [==============>...............] - ETA: 3s - loss: 0.1631 - accuracy: 0.95\n",
      "27904/48000 [================>.............] - ETA: 3s - loss: 0.1631 - accuracy: 0.95\n",
      "31712/48000 [==================>...........] - ETA: 2s - loss: 0.1623 - accuracy: 0.95\n",
      "34848/48000 [====================>.........] - ETA: 2s - loss: 0.1617 - accuracy: 0.951\n",
      "38592/48000 [=======================>......] - ETA: 1s - loss: 0.1586 - accuracy: 0.952\n",
      "42432/48000 [=========================>....] - ETA: 0s - loss: 0.1579 - accuracy: 0.95\n",
      "46240/48000 [===========================>..] - ETA: 0s - loss: 0.1584 - accuracy: 0.95\n",
      "48000/48000 [==============================] - 9s 185us/sample - loss: 0.1577 - accuracy: 0.9528 - val_loss: 0.1146 - val_accuracy: 0.9663\n",
      "Epoch 3/3\n",
      " 2176/48000 [>.............................] - ETA: 9s - loss: 0.1345 - accuracy: 0.9600\n",
      " 5312/48000 [==>...........................] - ETA: 8s - loss: 0.1220 - accuracy: 0.964\n",
      " 8384/48000 [====>.........................] - ETA: 7s - loss: 0.1242 - accuracy: 0.96\n",
      "11360/48000 [=====>........................] - ETA: 7s - loss: 0.1266 - accuracy: 0.96\n",
      "13856/48000 [=======>......................] - ETA: 6s - loss: 0.1284 - accuracy: 0.96\n",
      "16896/48000 [=========>....................] - ETA: 6s - loss: 0.1307 - accuracy: 0.96\n",
      "19904/48000 [===========>..................] - ETA: 5s - loss: 0.1275 - accuracy: 0.96\n",
      "23040/48000 [=============>................] - ETA: 5s - loss: 0.1283 - accuracy: 0.96\n",
      "26664/48000 [===============>..............] - ETA: 4s - loss: 0.1278 - accuracy: 0.96\n",
      "28768/48000 [================>.............] - ETA: 3s - loss: 0.1260 - accuracy: 0.962\n",
      "31936/48000 [==================>...........] - ETA: 3s - loss: 0.1250 - accuracy: 0.962\n",
      "35136/48000 [====================>.........] - ETA: 2s - loss: 0.1240 - accuracy: 0.96\n",
      "38400/48000 [======================>.......] - ETA: 1s - loss: 0.1225 - accuracy: 0.96\n",
      "40992/48000 [========================>.....] - ETA: 1s - loss: 0.1202 - accuracy: 0.96\n",
      "44192/48000 [==========================>...] - ETA: 0s - loss: 0.1205 - accuracy: 0.96\n",
      "47296/48000 [============================>.] - ETA: 0s - loss: 0.1196 - accuracy: 0.96\n",
      "48000/48000 [==============================] - 10s 217us/sample - loss: 0.1194 - accuracy: 0.9640 - val_loss: 0.1024 - val_accuracy: 0.9702\n",
      "Test accuracy:  0.9701\n"
     ]
    },
    {
     "name": "stderr",
     "output_type": "stream",
     "text": [
      "[W 201207 13:42:52 job:173] Cleaning up job fairing-job-29mnl...\n"
     ]
    },
    {
     "data": {
      "text/plain": [
       "(<kubeflow.fairing.preprocessors.base.BasePreProcessor at 0x7fd1a05ef4a8>,\n",
       " <kubeflow.fairing.builders.append.append.AppendBuilder at 0x7fd1a05ef3c8>,\n",
       " <kubeflow.fairing.deployers.job.job.Job at 0x7fd1a05ef470>)"
      ]
     },
     "execution_count": 1,
     "metadata": {},
     "output_type": "execute_result"
    }
   ],
   "source": [
    "from kubeflow import fairing\n",
    "from kubeflow.fairing.kubernetes import utils as k8s_utils\n",
    "\n",
    "PRIVATE_REGISTRY = 'kubeflow-registry.default.svc.cluster.local:30000'\n",
    "\n",
    "fairing.config.set_preprocessor(\n",
    "    'python', \n",
    "     # command = ['python'],  # default: python\n",
    "     input_files = ['00-python-file-to-fairing.py'],     \n",
    ")\n",
    "\n",
    "fairing.config.set_builder(\n",
    "    'append',\n",
    "    base_image = f'{PRIVATE_REGISTRY}/kf-base:latest', # 사전준비에서 마련한 Base Image\n",
    "    registry = PRIVATE_REGISTRY,\n",
    "    image_name='my-02-python-file-fairing', \n",
    "    push=True\n",
    ")\n",
    "\n",
    "fairing.config.set_deployer(\n",
    "    'job',\n",
    "    namespace='myspace',\n",
    "    pod_spec_mutators=[\n",
    "        k8s_utils.get_resource_mutator(cpu=1, memory=5)]\n",
    ")\n",
    "\n",
    "fairing.config.run()"
   ]
  },
  {
   "cell_type": "markdown",
   "metadata": {
    "tags": []
   },
   "source": [
    "# Image 확인\n",
    "- Host에서 실행\n",
    "- fairing에서 난수로 생성한 tag를 변경해서 실행할 것 (예: E2683407)"
   ]
  },
  {
   "cell_type": "markdown",
   "metadata": {
    "tags": []
   },
   "source": [
    "### Image pull\n",
    "```sh\n",
    "docker pull kubeflow-registry.default.svc.cluster.local:30000/my-02-python-file-fairing:E2683407\n",
    "```"
   ]
  },
  {
   "cell_type": "markdown",
   "metadata": {
    "tags": []
   },
   "source": [
    "### Image inspect\n",
    "```sh\n",
    "docker inspect kubeflow-registry.default.svc.cluster.local:30000/my-02-python-file-fairing:E2683407\n",
    "```\n",
    "Cmd 항목을 확인하고 faring 코드대로 image build 되었음을 확인\n",
    "```json\n",
    "...\n",
    "            \"Cmd\": [\n",
    "                \"python\",\n",
    "                \"/app/00-python-file-to-fairing.py\"\n",
    "            ],\n",
    "...\n",
    "```"
   ]
  }
 ],
 "metadata": {
  "kernelspec": {
   "display_name": "Python 3",
   "language": "python",
   "name": "python3"
  },
  "kubeflow_notebook": {
   "docker_image": "reddiana/jupyterlab-kale:0.0.9",
   "experiment": {
    "id": "",
    "name": ""
   },
   "experiment_name": "",
   "katib_metadata": {
    "algorithm": {
     "algorithmName": "grid"
    },
    "maxFailedTrialCount": 3,
    "maxTrialCount": 12,
    "objective": {
     "objectiveMetricName": "",
     "type": "minimize"
    },
    "parallelTrialCount": 3,
    "parameters": []
   },
   "katib_run": false,
   "pipeline_description": "",
   "pipeline_name": "",
   "volumes": []
  },
  "language_info": {
   "codemirror_mode": {
    "name": "ipython",
    "version": 3
   },
   "file_extension": ".py",
   "mimetype": "text/x-python",
   "name": "python",
   "nbconvert_exporter": "python",
   "pygments_lexer": "ipython3",
   "version": "3.6.9"
  }
 },
 "nbformat": 4,
 "nbformat_minor": 4
}
