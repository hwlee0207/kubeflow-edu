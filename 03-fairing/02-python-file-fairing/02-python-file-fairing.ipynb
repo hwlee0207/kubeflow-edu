{
 "cells": [
  {
   "cell_type": "code",
   "execution_count": 3,
   "metadata": {
    "tags": []
   },
   "outputs": [
    {
     "name": "stderr",
     "output_type": "stream",
     "text": [
      "[I 201208 03:02:08 config:134] Using preprocessor: <kubeflow.fairing.preprocessors.base.BasePreProcessor object at 0x7f41f1c65e48>\n",
      "[I 201208 03:02:08 config:136] Using builder: <kubeflow.fairing.builders.append.append.AppendBuilder object at 0x7f41f1c654e0>\n",
      "[I 201208 03:02:08 config:138] Using deployer: <kubeflow.fairing.deployers.job.job.Job object at 0x7f42287de8d0>\n",
      "[W 201208 03:02:08 append:50] Building image using Append builder...\n",
      "[I 201208 03:02:08 base:107] Creating docker context: /tmp/fairing_context_hnd_33k1\n",
      "[I 201208 03:02:08 docker_creds_:234] Loading Docker credentials for repository 'kubeflow-registry.default.svc.cluster.local:30000/kf-base:latest'\n",
      "[W 201208 03:02:08 append:54] Image successfully built in 0.02906606400028977s.\n",
      "[W 201208 03:02:08 append:94] Pushing image kubeflow-registry.default.svc.cluster.local:30000/my-02-python-file-fairing:D01F336C...\n",
      "[I 201208 03:02:08 docker_creds_:234] Loading Docker credentials for repository 'kubeflow-registry.default.svc.cluster.local:30000/my-02-python-file-fairing:D01F336C'\n",
      "[W 201208 03:02:08 append:81] Uploading kubeflow-registry.default.svc.cluster.local:30000/my-02-python-file-fairing:D01F336C\n",
      "[I 201208 03:02:09 docker_session_:284] Layer sha256:8592f093fc78e0d933851ed625592627241c475dd46adad77f37dec9cc867446 pushed.\n",
      "[I 201208 03:02:09 docker_session_:284] Layer sha256:edc69fe5c6be6938f490e5f91cdb6369799b4a509fd72c292e0cd6fdb3c345b3 pushed.\n",
      "[I 201208 03:02:09 docker_session_:284] Layer sha256:107f0b841886b4e032a6ced874db81b71dcdc5e6827b6c0d195defe4c6e661da pushed.\n",
      "[I 201208 03:02:09 docker_session_:284] Layer sha256:c8e37668deea784f47c8726d934adc12b8d20a2b1c50b0b0c18cb62771cd3684 pushed.\n",
      "[I 201208 03:02:09 docker_session_:284] Layer sha256:0d3160e1d0de4061b5b32ee09af687b898921d36ed9556df5910ddc3104449cd pushed.\n",
      "[I 201208 03:02:09 docker_session_:284] Layer sha256:19abc8da1d40e8c899e03f3e5b5e25b4cc059edfb6c514dafc3dbf13fcbe84ec pushed.\n",
      "[I 201208 03:02:09 docker_session_:284] Layer sha256:bd9a4ed02f6f8b86d224ac6aa9543412c04a4e11f069c18d5fe94a17c5fd5db3 pushed.\n",
      "[I 201208 03:02:09 docker_session_:284] Layer sha256:4c1d20cdee96111c8acf1858b62655a37ce81ae48648993542b7ac363ac5c0e5 pushed.\n",
      "[I 201208 03:02:09 docker_session_:284] Layer sha256:75c61371a2e390c1d05234b28163580c90c2e26c6d245984a4da73f9f022c102 pushed.\n",
      "[I 201208 03:02:09 docker_session_:284] Layer sha256:2746a4a261c9e18bfd7ff0429c18fd7522acc14fa4c7ec8ab37ba5ebaadbc584 pushed.\n",
      "[I 201208 03:02:09 docker_session_:284] Layer sha256:e52cad4ccd832fc331516c5a5632fdd08c37d711ff243c7e04d6e8c374b9c474 pushed.\n",
      "[I 201208 03:02:13 docker_session_:284] Layer sha256:4a5adb379ce354f948420e6b6331e724c43ddafa86a1e9a71a4bc52c591f9bcb pushed.\n",
      "[I 201208 03:02:13 docker_session_:284] Layer sha256:e97116da5f9876a95d0d3f0fd1e3bcc48721f9ac6351ce23aaa3d261b4f9b0d6 pushed.\n",
      "[I 201208 03:02:13 docker_session_:284] Layer sha256:0154d720fad608d9ed045f0ee9c678bb52f93d8666eb1ffef8953da3449d095a pushed.\n",
      "[I 201208 03:02:27 docker_session_:284] Layer sha256:dccb0709d7fb37e513a933c3848be077f0e514e41a084bd9f3f27dcde169ae20 pushed.\n",
      "[I 201208 03:02:27 docker_session_:334] Finished upload of: kubeflow-registry.default.svc.cluster.local:30000/my-02-python-file-fairing:D01F336C\n",
      "[W 201208 03:02:27 append:99] Pushed image kubeflow-registry.default.svc.cluster.local:30000/my-02-python-file-fairing:D01F336C in 18.3943097270012s.\n",
      "[W 201208 03:02:27 job:101] The job fairing-job-xhlz2 launched.\n",
      "[W 201208 03:02:27 manager:298] Waiting for fairing-job-xhlz2-jhf8b to start...\n",
      "[W 201208 03:02:27 manager:298] Waiting for fairing-job-xhlz2-jhf8b to start...\n",
      "[W 201208 03:02:27 manager:298] Waiting for fairing-job-xhlz2-jhf8b to start...\n",
      "[I 201208 03:02:29 manager:304] Pod started running True\n"
     ]
    },
    {
     "name": "stdout",
     "output_type": "stream",
     "text": [
      "2020-12-08 03:02:38.092722: W tensorflow/stream_executor/platform/default/dso_loader.cc:55] Could not load dynamic library 'libnvinfer.so.6'; dlerror: libnvinfer.so.6: cannot open shared object file: No such file or directory\n",
      "2020-12-08 03:02:38.092902: W tensorflow/stream_executor/platform/default/dso_loader.cc:55] Could not load dynamic library 'libnvinfer_plugin.so.6'; dlerror: libnvinfer_plugin.so.6: cannot open shared object file: No such file or directory\n",
      "2020-12-08 03:02:38.092933: W tensorflow/compiler/tf2tensorrt/utils/py_utils.cc:30] Cannot dlopen some TensorRT libraries. If you would like to use Nvidia GPU with TensorRT, please make sure the missing libraries mentioned above are installed properly.\n",
      "Downloading data from https://storage.googleapis.com/tensorflow/tf-keras-datasets/mnist.npz\n",
      "11493376/11490434 [==============================] - 0s 0us/step\n",
      "2020-12-08 03:02:41.974119: W tensorflow/stream_executor/platform/default/dso_loader.cc:55] Could not load dynamic library 'libcuda.so.1'; dlerror: libcuda.so.1: cannot open shared object file: No such file or directory\n",
      "2020-12-08 03:02:41.974227: E tensorflow/stream_executor/cuda/cuda_driver.cc:351] failed call to cuInit: UNKNOWN ERROR (303)\n",
      "2020-12-08 03:02:41.974274: I tensorflow/stream_executor/cuda/cuda_diagnostics.cc:156] kernel driver does not appear to be running on this host (fairing-job-xhlz2-jhf8b): /proc/driver/nvidia/version does not exist\n",
      "2020-12-08 03:02:42.000410: I tensorflow/core/platform/cpu_feature_guard.cc:142] Your CPU supports instructions that this TensorFlow binary was not compiled to use: AVX2 FMA\n",
      "2020-12-08 03:02:42.062017: I tensorflow/core/platform/profile_utils/cpu_utils.cc:94] CPU Frequency: 2300000000 Hz\n",
      "2020-12-08 03:02:42.063842: I tensorflow/compiler/xla/service/service.cc:168] XLA service 0x3a3aec0 initialized for platform Host (this does not guarantee that XLA will be used). Devices:\n",
      "2020-12-08 03:02:42.063884: I tensorflow/compiler/xla/service/service.cc:176]   StreamExecutor device (0): Host, Default Version\n",
      "2020-12-08 03:02:42.587595: W tensorflow/core/framework/cpu_allocator_impl.cc:81] Allocation of 301056000 exceeds 10% of system memory.\n",
      "Model: \"sequential\"\n",
      "_________________________________________________________________\n",
      "Layer (type)                 Output Shape              Param #\n",
      "=================================================================\n",
      "flatten (Flatten)            (None, 784)               0\n",
      "_________________________________________________________________\n",
      "dense (Dense)                (None, 128)               100480\n",
      "_________________________________________________________________\n",
      "dropout (Dropout)            (None, 128)               0\n",
      "_________________________________________________________________\n",
      "dense_1 (Dense)              (None, 10)                1290\n",
      "=================================================================\n",
      "Total params: 101,770\n",
      "Trainable params: 101,770\n",
      "Non-trainable params: 0\n",
      "_________________________________________________________________\n",
      "Training...\n",
      "Train on 48000 samples, validate on 12000 samples\n",
      "Epoch 1/3\n",
      " 2752/48000 [>.............................] - ETA: 38s - loss: 1.0513 - accuracy: 0.69403\n",
      " 6272/48000 [==>...........................] - ETA: 19s - loss: 0.7579 - accuracy: 0.778\n",
      " 9856/48000 [====>.........................] - ETA: 14s - loss: 0.6118 - accuracy: 0.824\n",
      "12928/48000 [=======>......................] - ETA: 11s - loss: 0.5386 - accuracy: 0.849\n",
      "16576/48000 [=========>....................] - ETA: 8s - loss: 0.4895 - accuracy: 0.8529\n",
      "20224/48000 [===========>..................] - ETA: 7s - loss: 0.4613 - accuracy: 0.86\n",
      "23904/48000 [=============>................] - ETA: 6s - loss: 0.4334 - accuracy: 0.87\n",
      "26912/48000 [===============>..............] - ETA: 4s - loss: 0.4094 - accuracy: 0.880\n",
      "30592/48000 [==================>...........] - ETA: 3s - loss: 0.3899 - accuracy: 0.886\n",
      "34304/48000 [====================>.........] - ETA: 3s - loss: 0.3742 - accuracy: 0.890\n",
      "37952/48000 [======================>.......] - ETA: 2s - loss: 0.3615 - accuracy: 0.89\n",
      "41632/48000 [========================>.....] - ETA: 1s - loss: 0.3489 - accuracy: 0.89\n",
      "44736/48000 [==========================>...] - ETA: 0s - loss: 0.3379 - accuracy: 0.90\n",
      "48000/48000 [==============================] - 11s 229us/sample - loss: 0.3276 - accuracy: 0.9039 - val_loss: 0.\n",
      "1584 - val_accuracy: 0.9557\n",
      "Epoch 2/3\n",
      " 2688/48000 [>.............................] - ETA: 7s - loss: 0.1744 - accuracy: 0.9469\n",
      " 6208/48000 [==>...........................] - ETA: 7s - loss: 0.1731 - accuracy: 0.950\n",
      " 9824/48000 [=====>........................] - ETA: 6s - loss: 0.1728 - accuracy: 0.95\n",
      "13536/48000 [=======>......................] - ETA: 5s - loss: 0.1719 - accuracy: 0.95\n",
      "16576/48000 [=========>....................] - ETA: 5s - loss: 0.1697 - accuracy: 0.95\n",
      "20256/48000 [===========>..................] - ETA: 4s - loss: 0.1728 - accuracy: 0.95\n",
      "23872/48000 [=============>................] - ETA: 4s - loss: 0.1709 - accuracy: 0.95\n",
      "27520/48000 [================>.............] - ETA: 3s - loss: 0.1685 - accuracy: 0.95\n",
      "31200/48000 [==================>...........] - ETA: 2s - loss: 0.1669 - accuracy: 0.95\n",
      "34240/48000 [====================>.........] - ETA: 2s - loss: 0.1651 - accuracy: 0.951\n",
      "37888/48000 [======================>.......] - ETA: 1s - loss: 0.1638 - accuracy: 0.951\n",
      "41600/48000 [=========================>....] - ETA: 1s - loss: 0.1623 - accuracy: 0.95\n",
      "45216/48000 [==========================>...] - ETA: 0s - loss: 0.1608 - accuracy: 0.95\n",
      "48000/48000 [==============================] - 9s 189us/sample - loss: 0.1595 - accuracy: 0.9525 - val_loss: 0.1172 - val_accuracy: 0.9672\n",
      "Epoch 3/3\n",
      " 3008/48000 [>.............................] - ETA: 7s - loss: 0.1063 - accuracy: 0.96\n",
      " 6656/48000 [===>..........................] - ETA: 6s - loss: 0.1136 - accuracy: 0.96\n",
      "10304/48000 [=====>........................] - ETA: 6s - loss: 0.1127 - accuracy: 0.96\n",
      "14016/48000 [=======>......................] - ETA: 5s - loss: 0.1171 - accuracy: 0.96\n",
      "17024/48000 [=========>....................] - ETA: 5s - loss: 0.1177 - accuracy: 0.963\n",
      "20640/48000 [===========>..................] - ETA: 4s - loss: 0.1179 - accuracy: 0.964\n",
      "24320/48000 [==============>...............] - ETA: 3s - loss: 0.1181 - accuracy: 0.963\n",
      "27968/48000 [================>.............] - ETA: 3s - loss: 0.1192 - accuracy: 0.96\n",
      "31552/48000 [==================>...........] - ETA: 2s - loss: 0.1201 - accuracy: 0.96\n",
      "34624/48000 [====================>.........] - ETA: 2s - loss: 0.1205 - accuracy: 0.96\n",
      "38272/48000 [======================>.......] - ETA: 1s - loss: 0.1211 - accuracy: 0.96\n",
      "41920/48000 [=========================>....] - ETA: 1s - loss: 0.1215 - accuracy: 0.96\n",
      "45536/48000 [===========================>..] - ETA: 0s - loss: 0.1209 - accuracy: 0.96\n",
      "48000/48000 [==============================] - 9s 188us/sample - loss: 0.1204 - accuracy: 0.9634 - val_loss: 0.1027 - val_accuracy: 0.9698\n",
      "Test accuracy:  0.969\n"
     ]
    },
    {
     "name": "stderr",
     "output_type": "stream",
     "text": [
      "[W 201208 03:03:14 job:173] Cleaning up job fairing-job-xhlz2...\n"
     ]
    },
    {
     "data": {
      "text/plain": [
       "(<kubeflow.fairing.preprocessors.base.BasePreProcessor at 0x7f41f1c65e48>,\n",
       " <kubeflow.fairing.builders.append.append.AppendBuilder at 0x7f41f1c654e0>,\n",
       " <kubeflow.fairing.deployers.job.job.Job at 0x7f42287de8d0>)"
      ]
     },
     "execution_count": 3,
     "metadata": {},
     "output_type": "execute_result"
    }
   ],
   "source": [
    "from kubeflow import fairing\n",
    "from kubeflow.fairing.kubernetes import utils as k8s_utils\n",
    "\n",
    "PRIVATE_REGISTRY = 'kubeflow-registry.default.svc.cluster.local:30000'\n",
    "\n",
    "fairing.config.set_preprocessor(\n",
    "    'python', \n",
    "     # command = ['python'],  # default: python\n",
    "     input_files = ['00-python-file-to-fairing.py'],     \n",
    ")\n",
    "\n",
    "fairing.config.set_builder(\n",
    "    'append',\n",
    "    base_image = f'{PRIVATE_REGISTRY}/kf-base:latest', # 사전준비에서 마련한 Base Image\n",
    "    registry = PRIVATE_REGISTRY,\n",
    "    image_name='my-02-python-file-fairing', \n",
    "    push=True\n",
    ")\n",
    "\n",
    "fairing.config.set_deployer(\n",
    "    'job',\n",
    "    namespace='myspace',\n",
    "    pod_spec_mutators=[\n",
    "        k8s_utils.get_resource_mutator(cpu=1, memory=5)]\n",
    ")\n",
    "\n",
    "fairing.config.run()"
   ]
  },
  {
   "cell_type": "markdown",
   "metadata": {
    "tags": []
   },
   "source": [
    "# Image 확인\n",
    "- Host에서 실행\n",
    "- fairing에서 난수로 생성한 tag를 변경해서 실행할 것 (예: E2683407)"
   ]
  },
  {
   "cell_type": "markdown",
   "metadata": {
    "tags": []
   },
   "source": [
    "### Image pull\n",
    "```sh\n",
    "docker pull kubeflow-registry.default.svc.cluster.local:30000/my-02-python-file-fairing:E2683407\n",
    "```"
   ]
  },
  {
   "cell_type": "markdown",
   "metadata": {
    "tags": []
   },
   "source": [
    "### Image inspect\n",
    "```sh\n",
    "docker inspect kubeflow-registry.default.svc.cluster.local:30000/my-02-python-file-fairing:E2683407\n",
    "```\n",
    "Cmd 항목을 확인하고 faring 코드대로 image build 되었음을 확인\n",
    "```json\n",
    "...\n",
    "            \"Cmd\": [\n",
    "                \"python\",\n",
    "                \"/app/00-python-file-to-fairing.py\"\n",
    "            ],\n",
    "...\n",
    "```"
   ]
  }
 ],
 "metadata": {
  "kernelspec": {
   "display_name": "Python 3",
   "language": "python",
   "name": "python3"
  },
  "kubeflow_notebook": {
   "docker_image": "reddiana/jupyterlab-kale:0.0.9",
   "experiment": {
    "id": "",
    "name": ""
   },
   "experiment_name": "",
   "katib_metadata": {
    "algorithm": {
     "algorithmName": "grid"
    },
    "maxFailedTrialCount": 3,
    "maxTrialCount": 12,
    "objective": {
     "objectiveMetricName": "",
     "type": "minimize"
    },
    "parallelTrialCount": 3,
    "parameters": []
   },
   "katib_run": false,
   "pipeline_description": "",
   "pipeline_name": "",
   "volumes": []
  },
  "language_info": {
   "codemirror_mode": {
    "name": "ipython",
    "version": 3
   },
   "file_extension": ".py",
   "mimetype": "text/x-python",
   "name": "python",
   "nbconvert_exporter": "python",
   "pygments_lexer": "ipython3",
   "version": "3.6.9"
  }
 },
 "nbformat": 4,
 "nbformat_minor": 4
}
