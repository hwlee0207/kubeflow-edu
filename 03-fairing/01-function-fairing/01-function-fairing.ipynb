{
 "cells": [
  {
   "cell_type": "code",
   "execution_count": 4,
   "metadata": {
    "tags": []
   },
   "outputs": [],
   "source": [
    "# import tensorflow as tf\n",
    "\n",
    "def train():\n",
    "    import tensorflow as tf\n",
    "    \n",
    "    mnist = tf.keras.datasets.mnist\n",
    "\n",
    "    (x_train, y_train), (x_test, y_test) = mnist.load_data()\n",
    "    x_train, x_test = x_train / 255.0, x_test / 255.0\n",
    "\n",
    "    model = tf.keras.models.Sequential([\n",
    "        tf.keras.layers.Flatten(input_shape=(28, 28)),\n",
    "        tf.keras.layers.Dense(128, activation='relu'),\n",
    "        tf.keras.layers.Dropout(0.2),\n",
    "        tf.keras.layers.Dense(10, activation='softmax')\n",
    "    ])\n",
    "\n",
    "    model.compile(\n",
    "        optimizer='adam',\n",
    "        loss='sparse_categorical_crossentropy',\n",
    "        metrics=['accuracy']\n",
    "    )\n",
    "\n",
    "    model.summary()\n",
    "\n",
    "    print(\"Training...\")\n",
    "\n",
    "    model.fit(\n",
    "        x_train, y_train, \n",
    "        epochs=3, \n",
    "        validation_split=0.2 \n",
    "    ) \n",
    "\n",
    "    score = model.evaluate(x_test, y_test, batch_size=128, verbose=0)\n",
    "    print('Test accuracy: ', score[1])"
   ]
  },
  {
   "cell_type": "code",
   "execution_count": 3,
   "metadata": {
    "collapsed": true,
    "jupyter": {
     "outputs_hidden": true
    },
    "tags": []
   },
   "outputs": [
    {
     "name": "stdout",
     "output_type": "stream",
     "text": [
      "Downloading data from https://storage.googleapis.com/tensorflow/tf-keras-datasets/mnist.npz\n",
      "11493376/11490434 [==============================] - 0s 0us/step\n",
      "Model: \"sequential\"\n",
      "_________________________________________________________________\n",
      "Layer (type)                 Output Shape              Param #   \n",
      "=================================================================\n",
      "flatten (Flatten)            (None, 784)               0         \n",
      "_________________________________________________________________\n",
      "dense (Dense)                (None, 128)               100480    \n",
      "_________________________________________________________________\n",
      "dropout (Dropout)            (None, 128)               0         \n",
      "_________________________________________________________________\n",
      "dense_1 (Dense)              (None, 10)                1290      \n",
      "=================================================================\n",
      "Total params: 101,770\n",
      "Trainable params: 101,770\n",
      "Non-trainable params: 0\n",
      "_________________________________________________________________\n",
      "Training...\n",
      "Train on 48000 samples, validate on 12000 samples\n",
      "Epoch 1/3\n",
      "48000/48000 [==============================] - 4s 92us/sample - loss: 0.3258 - accuracy: 0.9044 - val_loss: 0.1583 - val_accuracy: 0.9555\n",
      "Epoch 2/3\n",
      "48000/48000 [==============================] - 4s 82us/sample - loss: 0.1575 - accuracy: 0.9534 - val_loss: 0.1161 - val_accuracy: 0.9647\n",
      "Epoch 3/3\n",
      "48000/48000 [==============================] - 4s 80us/sample - loss: 0.1160 - accuracy: 0.9650 - val_loss: 0.1047 - val_accuracy: 0.9690\n",
      "Test accuracy:  0.97\n"
     ]
    }
   ],
   "source": [
    "# Local training\n",
    "train()"
   ]
  },
  {
   "cell_type": "code",
   "execution_count": 5,
   "metadata": {
    "tags": []
   },
   "outputs": [
    {
     "name": "stderr",
     "output_type": "stream",
     "text": [
      "[I 201208 02:40:16 config:134] Using preprocessor: <kubeflow.fairing.preprocessors.function.FunctionPreProcessor object at 0x7f71e75e2358>\n",
      "[I 201208 02:40:16 config:136] Using builder: <kubeflow.fairing.builders.append.append.AppendBuilder object at 0x7f715c0e64e0>\n",
      "[I 201208 02:40:16 config:138] Using deployer: <kubeflow.fairing.deployers.job.job.Job object at 0x7f71e75e2b70>\n",
      "[W 201208 02:40:16 append:50] Building image using Append builder...\n",
      "[I 201208 02:40:16 base:107] Creating docker context: /tmp/fairing_context_bx0w3iaq\n",
      "[W 201208 02:40:16 base:94] /usr/local/lib/python3.6/dist-packages/kubeflow/fairing/__init__.py already exists in Fairing context, skipping...\n",
      "[I 201208 02:40:16 docker_creds_:234] Loading Docker credentials for repository 'tensorflow/tensorflow:2.0.3-gpu-py3'\n",
      "[W 201208 02:40:17 append:54] Image successfully built in 0.660758693000389s.\n",
      "[W 201208 02:40:17 append:94] Pushing image kubeflow-registry.default.svc.cluster.local:30000/fairing-job:B4EB8726...\n",
      "[I 201208 02:40:17 docker_creds_:234] Loading Docker credentials for repository 'kubeflow-registry.default.svc.cluster.local:30000/fairing-job:B4EB8726'\n",
      "[W 201208 02:40:17 append:81] Uploading kubeflow-registry.default.svc.cluster.local:30000/fairing-job:B4EB8726\n",
      "[I 201208 02:40:17 docker_session_:284] Layer sha256:adbd42fc61597374033efdd122b2fa3b10360b996961fa9114ac74d39ff9288e pushed.\n",
      "[I 201208 02:40:17 docker_session_:284] Layer sha256:05cc64cc481fe79962b34513eab815d88ebe4ac6ac5014f5a75059120ff54403 pushed.\n",
      "[I 201208 02:40:17 docker_session_:284] Layer sha256:180a91d332525099dc19822a6acdd951afc8caa017d5101cfe925d839a86d806 pushed.\n",
      "[I 201208 02:40:17 docker_session_:284] Layer sha256:d9caf7ad2942a28c3f57d4d88a9323f4fc1b1bb797f613f2a889dd637e6eb76d pushed.\n",
      "[I 201208 02:40:18 docker_session_:284] Layer sha256:b11f037be8e82a958bc0f85b0fa2a73515ce8954042eac96bb654e662ae9519f pushed.\n",
      "[I 201208 02:40:18 docker_session_:284] Layer sha256:808ab635d662f007795c47a50aa04f09645f4ff2356cb3b4a4793dc849f8c567 pushed.\n",
      "[I 201208 02:40:18 docker_session_:284] Layer sha256:d69f906e5daf636062d23a04229abd5ad7cc9dc4ed4fec747209c475d2baedbe pushed.\n",
      "[I 201208 02:40:18 docker_session_:284] Layer sha256:8ed3cb4f3e640b8c622e61beba1b83f115f32756055cafcc5840e4ae4f806cab pushed.\n",
      "[I 201208 02:40:18 docker_session_:284] Layer sha256:1860925334f940c3145808527480b4f0cba7f01279087fdb27679e4354fba967 pushed.\n",
      "[I 201208 02:40:18 docker_session_:284] Layer sha256:94e5ff4c0b1526abf77c236655f21c8f67a23313291c8b970fe6b469549d8153 pushed.\n",
      "[I 201208 02:40:18 docker_session_:284] Layer sha256:64c1fb90b5a5b52bc9cd212302432b449b17377ab2822b7df3bf51183f955a15 pushed.\n",
      "[I 201208 02:40:18 docker_session_:284] Layer sha256:3baa9cb2483bd9c5329a44d9c2fe72535625bbd4308bca95785dd58e72c06365 pushed.\n",
      "[I 201208 02:40:18 docker_session_:284] Layer sha256:24379c211bf57a28dc199d0b1e7dc6a8055c42367f7dc7aa7af94233424320d0 pushed.\n",
      "[I 201208 02:40:18 docker_session_:284] Layer sha256:f08d8e2a3ba11bea23cf5c17e8e1c620057412ed05c32d1114640e18d6dd0a43 pushed.\n",
      "[I 201208 02:40:20 docker_session_:284] Layer sha256:a6b0136f4b734fa962c4f6a51536f4c66bdf70607e08a815cc8b1ee28b967af7 pushed.\n",
      "[I 201208 02:40:21 docker_session_:284] Layer sha256:f24e58c7d76b40e220b929eb26738ea454d26e69b3c4f69915dbc39d801ad2bb pushed.\n",
      "[I 201208 02:40:54 docker_session_:284] Layer sha256:eee182b1b1f319aa543a64cf31d2ab0479870a7dc103da35ad4e450513dccdb9 pushed.\n",
      "[I 201208 02:40:59 docker_session_:284] Layer sha256:da612ad945dfc0bddf4057d29e35c73c95bb864754567ab5068fe7b1fbd8b696 pushed.\n",
      "[I 201208 02:40:59 docker_session_:334] Finished upload of: kubeflow-registry.default.svc.cluster.local:30000/fairing-job:B4EB8726\n",
      "[W 201208 02:40:59 append:99] Pushed image kubeflow-registry.default.svc.cluster.local:30000/fairing-job:B4EB8726 in 42.2497002580003s.\n",
      "[W 201208 02:40:59 job:101] The job fairing-job-dq6m4 launched.\n",
      "[W 201208 02:40:59 manager:298] Waiting for fairing-job-dq6m4-mn7w9 to start...\n",
      "[W 201208 02:40:59 manager:298] Waiting for fairing-job-dq6m4-mn7w9 to start...\n",
      "[W 201208 02:40:59 manager:298] Waiting for fairing-job-dq6m4-mn7w9 to start...\n",
      "[I 201208 02:42:00 manager:304] Pod started running True\n"
     ]
    },
    {
     "name": "stdout",
     "output_type": "stream",
     "text": [
      "Downloading data from https://storage.googleapis.com/tensorflow/tf-keras-datasets/mnist.npz\n",
      "11493376/11490434 [==============================] - 0s 0us/step\n",
      "2020-12-08 02:42:02.072948: I tensorflow/stream_executor/platform/default/dso_loader.cc:44] Successfully opened dynamic library libcuda.so.1\n",
      "2020-12-08 02:42:02.073058: E tensorflow/stream_executor/cuda/cuda_driver.cc:318] failed call to cuInit: UNKNOWN ERROR (-1)\n",
      "2020-12-08 02:42:02.073098: I tensorflow/stream_executor/cuda/cuda_diagnostics.cc:156] kernel driver does not appear to be running on this host (fairing-job-dq6m4-mn7w9): /proc/driver/nvidia/version does not exist\n",
      "2020-12-08 02:42:02.073460: I tensorflow/core/platform/cpu_feature_guard.cc:142] Your CPU supports instructions that this TensorFlow binary was not compiled to use: AVX2 FMA\n",
      "2020-12-08 02:42:02.083136: I tensorflow/core/platform/profile_utils/cpu_utils.cc:94] CPU Frequency: 2300000000 Hz\n",
      "2020-12-08 02:42:02.083672: I tensorflow/compiler/xla/service/service.cc:168] XLA service 0x462dff0 executing computations on platform Host. Devices:\n",
      "2020-12-08 02:42:02.083708: I tensorflow/compiler/xla/service/service.cc:175]   StreamExecutor device (0): Host, Default Version\n",
      "2020-12-08 02:42:02.203061: W tensorflow/core/framework/cpu_allocator_impl.cc:81] Allocation of 301056000 exceeds 10% of system memory.\n",
      "2020-12-08 02:42:02.487294: W tensorflow/core/framework/cpu_allocator_impl.cc:81] Allocation of 75264000 exceeds 10% of system memory.\n",
      "Model: \"sequential\"\n",
      "_________________________________________________________________\n",
      "Layer (type)                 Output Shape              Param #\n",
      "=================================================================\n",
      "flatten (Flatten)            (None, 784)               0\n",
      "_________________________________________________________________\n",
      "dense (Dense)                (None, 128)               100480\n",
      "_________________________________________________________________\n",
      "dropout (Dropout)            (None, 128)               0\n",
      "_________________________________________________________________\n",
      "dense_1 (Dense)              (None, 10)                1290\n",
      "=================================================================\n",
      "Total params: 101,770\n",
      "Trainable params: 101,770\n",
      "Non-trainable params: 0\n",
      "_________________________________________________________________\n",
      "Training...\n",
      "Train on 48000 samples, validate on 12000 samples\n",
      "Epoch 1/3\n",
      " 3488/48000 [=>............................] - ETA: 10s - loss: 0.9229 - accuracy: 0.7387 \n",
      " 8096/48000 [====>.........................] - ETA: 5s - loss: 0.6445 - accuracy: 0.801\n",
      "12416/48000 [======>.......................] - ETA: 4s - loss: 0.5519 - accuracy: 0.84\n",
      "16800/48000 [=========>....................] - ETA: 3s - loss: 0.4900 - accuracy: 0.85\n",
      "20192/48000 [===========>..................] - ETA: 2s - loss: 0.4473 - accuracy: 0.86\n",
      "24224/48000 [==============>...............] - ETA: 2s - loss: 0.4138 - accuracy: 0.87\n",
      "28544/48000 [================>.............] - ETA: 1s - loss: 0.3873 - accuracy: 0.88\n",
      "32896/48000 [===================>..........] - ETA: 1s - loss: 0.3717 - accuracy: 0.89\n",
      "36704/48000 [=====================>........] - ETA: 0s - loss: 0.3537 - accuracy: 0.897\n",
      "40576/48000 [========================>.....] - ETA: 0s - loss: 0.3400 - accuracy: 0.901\n",
      "44608/48000 [==========================>...] - ETA: 0s - loss: 0.3296 - accuracy: 0.904\n",
      "48000/48000 [==============================] - 5s 100us/sample - loss: 0.3207 - accuracy: 0.9063 - val_loss: 0.1555 - val_accuracy: 0.9538\n",
      "Epoch 2/3\n",
      " 3136/48000 [>.............................] - ETA: 3s - loss: 0.1745 - accuracy: 0.95\n",
      " 7296/48000 [===>..........................] - ETA: 3s - loss: 0.1646 - accuracy: 0.95\n",
      "11712/48000 [======>.......................] - ETA: 2s - loss: 0.1658 - accuracy: 0.95\n",
      "15840/48000 [========>.....................] - ETA: 2s - loss: 0.1625 - accuracy: 0.95\n",
      "18976/48000 [==========>...................] - ETA: 2s - loss: 0.1617 - accuracy: 0.952\n",
      "23552/48000 [=============>................] - ETA: 1s - loss: 0.1633 - accuracy: 0.951\n",
      "28000/48000 [================>.............] - ETA: 1s - loss: 0.1626 - accuracy: 0.951\n",
      "32224/48000 [===================>..........] - ETA: 1s - loss: 0.1622 - accuracy: 0.95\n",
      "36672/48000 [=====================>........] - ETA: 0s - loss: 0.1609 - accuracy: 0.95\n",
      "40480/48000 [========================>.....] - ETA: 0s - loss: 0.1616 - accuracy: 0.95\n",
      "44800/48000 [===========================>..] - ETA: 0s - loss: 0.1592 - accuracy: 0.95\n",
      "48000/48000 [==============================] - 4s 85us/sample - loss: 0.1585 - accuracy: 0.9526 - val_loss: 0.1173 - val_accuracy: 0.9664\n",
      "Epoch 3/3\n",
      " 3712/48000 [=>............................] - ETA: 3s - loss: 0.1288 - accuracy: 0.96\n",
      " 8000/48000 [====>.........................] - ETA: 2s - loss: 0.1223 - accuracy: 0.96\n",
      "12480/48000 [======>.......................] - ETA: 2s - loss: 0.1255 - accuracy: 0.96\n",
      "17152/48000 [=========>....................] - ETA: 2s - loss: 0.1225 - accuracy: 0.96\n",
      "20384/48000 [===========>..................] - ETA: 1s - loss: 0.1198 - accuracy: 0.963\n",
      "24928/48000 [==============>...............] - ETA: 1s - loss: 0.1207 - accuracy: 0.963\n",
      "29504/48000 [=================>............] - ETA: 1s - loss: 0.1215 - accuracy: 0.963\n",
      "33984/48000 [====================>.........] - ETA: 1s - loss: 0.1205 - accuracy: 0.96\n",
      "38336/48000 [======================>.......] - ETA: 0s - loss: 0.1210 - accuracy: 0.96\n",
      "42176/48000 [=========================>....] - ETA: 0s - loss: 0.1193 - accuracy: 0.96\n",
      "46336/48000 [===========================>..] - ETA: 0s - loss: 0.1190 - accuracy: 0.96\n",
      "48000/48000 [==============================] - 4s 84us/sample - loss: 0.1185 - accuracy: 0.9644 - val_loss: 0.1024 - val_accuracy: 0.9697\n",
      "Test accuracy:  0.9689\n"
     ]
    },
    {
     "name": "stderr",
     "output_type": "stream",
     "text": [
      "[W 201208 02:42:16 job:173] Cleaning up job fairing-job-dq6m4...\n"
     ]
    }
   ],
   "source": [
    "from kubeflow import fairing\n",
    "\n",
    "PRIVATE_REGISTRY = 'kubeflow-registry.default.svc.cluster.local:30000'\n",
    "\n",
    "fairing.config.set_builder(\n",
    "    'append',\n",
    "    base_image = 'tensorflow/tensorflow:2.0.3-gpu-py3',\n",
    "    # base_image = f'{PRIVATE_REGISTRY}/kf-base:latest', \n",
    "    registry = PRIVATE_REGISTRY, \n",
    "    push=True\n",
    ")\n",
    "\n",
    "fairing.config.set_deployer('job')\n",
    "\n",
    "remote_train = fairing.config.fn(train)\n",
    "\n",
    "remote_train()"
   ]
  },
  {
   "cell_type": "markdown",
   "metadata": {
    "tags": []
   },
   "source": [
    "### curl로 프라이빗 레지스트리 확인"
   ]
  },
  {
   "cell_type": "code",
   "execution_count": 6,
   "metadata": {
    "tags": []
   },
   "outputs": [
    {
     "name": "stdout",
     "output_type": "stream",
     "text": [
      "{\"repositories\":[\"fairing-job\"]}\n"
     ]
    }
   ],
   "source": [
    "! curl http://kubeflow-registry.default.svc.cluster.local:30000/v2/_catalog"
   ]
  },
  {
   "cell_type": "code",
   "execution_count": 7,
   "metadata": {
    "tags": []
   },
   "outputs": [
    {
     "name": "stdout",
     "output_type": "stream",
     "text": [
      "{\"name\":\"fairing-job\",\"tags\":[\"B4EB8726\"]}\n"
     ]
    }
   ],
   "source": [
    "! curl http://kubeflow-registry.default.svc.cluster.local:30000/v2/fairing-job/tags/list"
   ]
  },
  {
   "cell_type": "markdown",
   "metadata": {
    "tags": []
   },
   "source": [
    "# Function Fairing 패키지 버전 이슈\n",
    "Function Fairing 시 fairing SDK가 컨테이너 내부에서 아래와 같은 명령을 실행\n",
    "```python\n",
    "python /app/function_shim.py --serialized_fn_file /app/pickled_fn.p --python_version 3.6\n",
    "```\n",
    "결과는 에러.\n",
    "\n",
    "다음과 같이 테스트 하여 실행 성공과 실패 케이스를 정리함\n",
    "\n",
    "- 실행 실패\n",
    "  - base_image = f'{PRIVATE_REGISTRY}/kf-base:latest', # 사전준비에서 마련한 Base Image  \n",
    "  - base_image = 'tensorflow/tensorflow:latest-py3',   \n",
    "  - base_image = 'tensorflow/tensorflow:2.1.2-gpu',    \n",
    "  - Base Image에 pip install tensorflow-gpu   <- 최신 2.3.1 설치됨\n",
    "- 실행 성공  \n",
    "  - base_image = 'brightfly/kubeflow-jupyter-lab:tf2.0-gpu', <- 실마리\n",
    "  - base_image = 'tensorflow/tensorflow:2.0.3-gpu-py3',\n",
    "  - Base Image에 pip install tensorflow-gpu==2.0.0 "
   ]
  },
  {
   "cell_type": "code",
   "execution_count": null,
   "metadata": {},
   "outputs": [],
   "source": []
  }
 ],
 "metadata": {
  "kernelspec": {
   "display_name": "Python 3",
   "language": "python",
   "name": "python3"
  },
  "kubeflow_notebook": {
   "docker_image": "reddiana/jupyterlab-kale:0.0.9",
   "experiment": {
    "id": "",
    "name": ""
   },
   "experiment_name": "",
   "katib_metadata": {
    "algorithm": {
     "algorithmName": "grid"
    },
    "maxFailedTrialCount": 3,
    "maxTrialCount": 12,
    "objective": {
     "objectiveMetricName": "",
     "type": "minimize"
    },
    "parallelTrialCount": 3,
    "parameters": []
   },
   "katib_run": false,
   "pipeline_description": "",
   "pipeline_name": "",
   "volumes": []
  },
  "language_info": {
   "codemirror_mode": {
    "name": "ipython",
    "version": 3
   },
   "file_extension": ".py",
   "mimetype": "text/x-python",
   "name": "python",
   "nbconvert_exporter": "python",
   "pygments_lexer": "ipython3",
   "version": "3.6.9"
  }
 },
 "nbformat": 4,
 "nbformat_minor": 4
}
