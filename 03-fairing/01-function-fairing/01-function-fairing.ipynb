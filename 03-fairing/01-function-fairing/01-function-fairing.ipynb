{
 "cells": [
  {
   "cell_type": "code",
   "execution_count": 7,
   "metadata": {
    "tags": []
   },
   "outputs": [],
   "source": [
    "# import tensorflow as tf\n",
    "\n",
    "def train():\n",
    "    import tensorflow as tf\n",
    "    \n",
    "    mnist = tf.keras.datasets.mnist\n",
    "\n",
    "    (x_train, y_train), (x_test, y_test) = mnist.load_data()\n",
    "    x_train, x_test = x_train / 255.0, x_test / 255.0\n",
    "\n",
    "    model = tf.keras.models.Sequential([\n",
    "        tf.keras.layers.Flatten(input_shape=(28, 28)),\n",
    "        tf.keras.layers.Dense(128, activation='relu'),\n",
    "        tf.keras.layers.Dropout(0.2),\n",
    "        tf.keras.layers.Dense(10, activation='softmax')\n",
    "    ])\n",
    "\n",
    "    model.compile(\n",
    "        optimizer='adam',\n",
    "        loss='sparse_categorical_crossentropy',\n",
    "        metrics=['accuracy']\n",
    "    )\n",
    "\n",
    "    model.summary()\n",
    "\n",
    "    print(\"Training...\")\n",
    "\n",
    "    model.fit(\n",
    "        x_train, y_train, \n",
    "        epochs=3, \n",
    "        validation_split=0.2 \n",
    "    ) \n",
    "\n",
    "    score = model.evaluate(x_test, y_test, batch_size=128, verbose=0)\n",
    "    print('Test accuracy: ', score[1])"
   ]
  },
  {
   "cell_type": "code",
   "execution_count": 8,
   "metadata": {
    "tags": []
   },
   "outputs": [
    {
     "name": "stdout",
     "output_type": "stream",
     "text": [
      "Downloading data from https://storage.googleapis.com/tensorflow/tf-keras-datasets/mnist.npz\n",
      "11493376/11490434 [==============================] - 0s 0us/step\n",
      "Model: \"sequential\"\n",
      "_________________________________________________________________\n",
      "Layer (type)                 Output Shape              Param #   \n",
      "=================================================================\n",
      "flatten (Flatten)            (None, 784)               0         \n",
      "_________________________________________________________________\n",
      "dense (Dense)                (None, 128)               100480    \n",
      "_________________________________________________________________\n",
      "dropout (Dropout)            (None, 128)               0         \n",
      "_________________________________________________________________\n",
      "dense_1 (Dense)              (None, 10)                1290      \n",
      "=================================================================\n",
      "Total params: 101,770\n",
      "Trainable params: 101,770\n",
      "Non-trainable params: 0\n",
      "_________________________________________________________________\n",
      "Training...\n",
      "Train on 48000 samples, validate on 12000 samples\n",
      "Epoch 1/3\n",
      "48000/48000 [==============================] - 4s 81us/sample - loss: 0.3290 - accuracy: 0.9036 - val_loss: 0.1600 - val_accuracy: 0.9559\n",
      "Epoch 2/3\n",
      "48000/48000 [==============================] - 4s 74us/sample - loss: 0.1580 - accuracy: 0.9532 - val_loss: 0.1157 - val_accuracy: 0.9656\n",
      "Epoch 3/3\n",
      "48000/48000 [==============================] - 4s 73us/sample - loss: 0.1194 - accuracy: 0.9650 - val_loss: 0.1016 - val_accuracy: 0.9701\n",
      "Test accuracy:  0.9706\n"
     ]
    }
   ],
   "source": [
    "# Local training\n",
    "train()"
   ]
  },
  {
   "cell_type": "code",
   "execution_count": 9,
   "metadata": {
    "tags": []
   },
   "outputs": [
    {
     "name": "stderr",
     "output_type": "stream",
     "text": [
      "[I 201207 13:38:56 config:134] Using preprocessor: <kubeflow.fairing.preprocessors.function.FunctionPreProcessor object at 0x7f3f30a37160>\n",
      "[I 201207 13:38:56 config:136] Using builder: <kubeflow.fairing.builders.append.append.AppendBuilder object at 0x7f3f30a6c940>\n",
      "[I 201207 13:38:56 config:138] Using deployer: <kubeflow.fairing.deployers.job.job.Job object at 0x7f3f30a37208>\n",
      "[W 201207 13:38:56 append:50] Building image using Append builder...\n",
      "[I 201207 13:38:56 base:107] Creating docker context: /tmp/fairing_context_iorfhln2\n",
      "[W 201207 13:38:56 base:94] /usr/local/lib/python3.6/dist-packages/kubeflow/fairing/__init__.py already exists in Fairing context, skipping...\n",
      "[I 201207 13:38:56 docker_creds_:234] Loading Docker credentials for repository 'kubeflow-registry.default.svc.cluster.local:30000/kf-base:latest'\n",
      "[W 201207 13:38:56 append:54] Image successfully built in 0.03984094200131949s.\n",
      "[W 201207 13:38:56 append:94] Pushing image kubeflow-registry.default.svc.cluster.local:30000/fairing-job:3C85C94C...\n",
      "[I 201207 13:38:56 docker_creds_:234] Loading Docker credentials for repository 'kubeflow-registry.default.svc.cluster.local:30000/fairing-job:3C85C94C'\n",
      "[W 201207 13:38:56 append:81] Uploading kubeflow-registry.default.svc.cluster.local:30000/fairing-job:3C85C94C\n",
      "[I 201207 13:38:56 docker_session_:280] Layer sha256:edc69fe5c6be6938f490e5f91cdb6369799b4a509fd72c292e0cd6fdb3c345b3 exists, skipping\n",
      "[I 201207 13:38:56 docker_session_:280] Layer sha256:da003f371504e5c97e9a8ca1438731499f0a4e258fe907bb6675c0f0412cb70d exists, skipping\n",
      "[I 201207 13:38:56 docker_session_:280] Layer sha256:dccb0709d7fb37e513a933c3848be077f0e514e41a084bd9f3f27dcde169ae20 exists, skipping\n",
      "[I 201207 13:38:56 docker_session_:280] Layer sha256:4c1d20cdee96111c8acf1858b62655a37ce81ae48648993542b7ac363ac5c0e5 exists, skipping\n",
      "[I 201207 13:38:56 docker_session_:280] Layer sha256:2746a4a261c9e18bfd7ff0429c18fd7522acc14fa4c7ec8ab37ba5ebaadbc584 exists, skipping\n",
      "[I 201207 13:38:56 docker_session_:280] Layer sha256:e97116da5f9876a95d0d3f0fd1e3bcc48721f9ac6351ce23aaa3d261b4f9b0d6 exists, skipping\n",
      "[I 201207 13:38:56 docker_session_:280] Layer sha256:699cac52ca5314147aa7b688940de3de9b5f57ec53ff404fa55c37091acef1fe exists, skipping\n",
      "[I 201207 13:38:56 docker_session_:280] Layer sha256:75c61371a2e390c1d05234b28163580c90c2e26c6d245984a4da73f9f022c102 exists, skipping\n",
      "[I 201207 13:38:56 docker_session_:280] Layer sha256:0d3160e1d0de4061b5b32ee09af687b898921d36ed9556df5910ddc3104449cd exists, skipping\n",
      "[I 201207 13:38:56 docker_session_:280] Layer sha256:107f0b841886b4e032a6ced874db81b71dcdc5e6827b6c0d195defe4c6e661da exists, skipping\n",
      "[I 201207 13:38:56 docker_session_:280] Layer sha256:c8e37668deea784f47c8726d934adc12b8d20a2b1c50b0b0c18cb62771cd3684 exists, skipping\n",
      "[I 201207 13:38:56 docker_session_:280] Layer sha256:8592f093fc78e0d933851ed625592627241c475dd46adad77f37dec9cc867446 exists, skipping\n",
      "[I 201207 13:38:56 docker_session_:280] Layer sha256:e52cad4ccd832fc331516c5a5632fdd08c37d711ff243c7e04d6e8c374b9c474 exists, skipping\n",
      "[I 201207 13:38:56 docker_session_:284] Layer sha256:233706404c6d72e7c61b7d7d6ca4d805fd2c8e95f829423b21b9694645375cd0 pushed.\n",
      "[I 201207 13:38:56 docker_session_:284] Layer sha256:3677777c86926c0767e7b968c33e5b9a1d874a6ac72637fd514d6e8068ec97bb pushed.\n",
      "[I 201207 13:38:56 docker_session_:334] Finished upload of: kubeflow-registry.default.svc.cluster.local:30000/fairing-job:3C85C94C\n",
      "[W 201207 13:38:56 append:99] Pushed image kubeflow-registry.default.svc.cluster.local:30000/fairing-job:3C85C94C in 0.09712929899978917s.\n",
      "[W 201207 13:38:56 job:101] The job fairing-job-7gtw7 launched.\n",
      "[W 201207 13:38:56 manager:298] Waiting for fairing-job-7gtw7-2h24s to start...\n",
      "[W 201207 13:38:56 manager:298] Waiting for fairing-job-7gtw7-2h24s to start...\n",
      "[W 201207 13:38:56 manager:298] Waiting for fairing-job-7gtw7-2h24s to start...\n",
      "[I 201207 13:38:58 manager:304] Pod started running True\n"
     ]
    },
    {
     "name": "stdout",
     "output_type": "stream",
     "text": [
      "2020-12-07 13:38:59.346708: W tensorflow/stream_executor/platform/default/dso_loader.cc:55] Could not load dynamic library 'libnvinfer.so.6'; dlerror: libnvinfer.so.6: cannot open shared object file: No such file or directory\n",
      "2020-12-07 13:38:59.346917: W tensorflow/stream_executor/platform/default/dso_loader.cc:55] Could not load dynamic library 'libnvinfer_plugin.so.6'; dlerror: libnvinfer_plugin.so.6: cannot open shared object file: No such file or directory\n",
      "2020-12-07 13:38:59.346940: W tensorflow/compiler/tf2tensorrt/utils/py_utils.cc:30] Cannot dlopen some TensorRT libraries. If you would like to use Nvidia GPU with TensorRT, please make sure the missing libraries mentioned above are installed properly.\n",
      "Downloading data from https://storage.googleapis.com/tensorflow/tf-keras-datasets/mnist.npz\n",
      "11493376/11490434 [==============================] - 0s 0us/step\n",
      "2020-12-07 13:39:01.386412: W tensorflow/stream_executor/platform/default/dso_loader.cc:55] Could not load dynamic library 'libcuda.so.1'; dlerror: libcuda.so.1: cannot open shared object file: No such file or directory\n",
      "2020-12-07 13:39:01.386453: E tensorflow/stream_executor/cuda/cuda_driver.cc:351] failed call to cuInit: UNKNOWN ERROR (303)\n",
      "2020-12-07 13:39:01.386485: I tensorflow/stream_executor/cuda/cuda_diagnostics.cc:156] kernel driver does not appear to be running on this host (fairing-job-7gtw7-2h24s): /proc/driver/nvidia/version does not exist\n",
      "2020-12-07 13:39:01.386752: I tensorflow/core/platform/cpu_feature_guard.cc:142] Your CPU supports instructions that this TensorFlow binary was not compiled to use: AVX2 FMA\n",
      "2020-12-07 13:39:01.395229: I tensorflow/core/platform/profile_utils/cpu_utils.cc:94] CPU Frequency: 2300000000 Hz\n",
      "2020-12-07 13:39:01.395980: I tensorflow/compiler/xla/service/service.cc:168] XLA service 0x41a2580 initialized for platform Host (this does not guarantee that XLA will be used). Devices:\n",
      "2020-12-07 13:39:01.396018: I tensorflow/compiler/xla/service/service.cc:176]   StreamExecutor device (0): Host, Default Version\n",
      "2020-12-07 13:39:01.529982: W tensorflow/core/framework/cpu_allocator_impl.cc:81] Allocation of 301056000 exceeds 10% of system memory.\n",
      "2020-12-07 13:39:02.135817: W tensorflow/core/framework/cpu_allocator_impl.cc:81] Allocation of 75264000 exceeds 10% of system memory.\n",
      "Model: \"sequential\"\n",
      "_________________________________________________________________\n",
      "Layer (type)                 Output Shape              Param #\n",
      "=================================================================\n",
      "flatten (Flatten)            (None, 784)               0\n",
      "_________________________________________________________________\n",
      "dense (Dense)                (None, 128)               100480\n",
      "_________________________________________________________________\n",
      "dropout (Dropout)            (None, 128)               0\n",
      "_________________________________________________________________\n",
      "dense_1 (Dense)              (None, 10)                1290\n",
      "=================================================================\n",
      "Total params: 101,770\n",
      "Trainable params: 101,770\n",
      "Non-trainable params: 0\n",
      "_________________________________________________________________\n",
      "Training...\n",
      "Train on 48000 samples, validate on 12000 samples\n",
      "Epoch 1/3\n",
      " 3840/48000 [=>............................] - ETA: 6s - loss: 0.8693 - accuracy: 0.75529\n",
      " 8896/48000 [====>.........................] - ETA: 3s - loss: 0.6162 - accuracy: 0.82\n",
      "14016/48000 [=======>......................] - ETA: 2s - loss: 0.5312 - accuracy: 0.84\n",
      "18944/48000 [==========>...................] - ETA: 2s - loss: 0.4722 - accuracy: 0.86\n",
      "23360/48000 [=============>................] - ETA: 1s - loss: 0.4288 - accuracy: 0.876\n",
      "28608/48000 [================>.............] - ETA: 1s - loss: 0.3950 - accuracy: 0.885\n",
      "33664/48000 [====================>.........] - ETA: 1s - loss: 0.3713 - accuracy: 0.89\n",
      "38720/48000 [=======================>......] - ETA: 0s - loss: 0.3553 - accuracy: 0.89\n",
      "42688/48000 [=========================>....] - ETA: 0s - loss: 0.3396 - accuracy: 0.90\n",
      "47776/48000 [============================>.] - ETA: 0s - loss: 0.3237 - accuracy: 0.90\n",
      "48000/48000 [==============================] - 4s 80us/sample - loss: 0.3234 - accuracy: 0.9066 - val_loss: 0.1573 - val_accuracy: 0.9548\n",
      "Epoch 2/3\n",
      " 4288/48000 [=>............................] - ETA: 2s - loss: 0.1622 - accuracy: 0.95\n",
      " 9312/48000 [====>.........................] - ETA: 2s - loss: 0.1752 - accuracy: 0.94\n",
      "14432/48000 [========>.....................] - ETA: 2s - loss: 0.1707 - accuracy: 0.94\n",
      "19296/48000 [===========...................] - ETA: 1s - loss: 0.1714 - accuracy: 0.94\n",
      "23520/48000 [=============>................] - ETA: 1s - loss: 0.1665 - accuracy: 0.950\n",
      "28672/48000 [================>.............] - ETA: 1s - loss: 0.1624 - accuracy: 0.951\n",
      "33760/48000 [====================>.........] - ETA: 0s - loss: 0.1618 - accuracy: 0.952\n",
      "39040/48000 [=======================>......] - ETA: 0s - loss: 0.1595 - accuracy: 0.95\n",
      "44192/48000 [==========================>...] - ETA: 0s - loss: 0.1574 - accuracy: 0.95\n",
      "48000/48000 [==============================] - 3s 73us/sample - loss: 0.1556 - accuracy: 0.9536 - val_loss: 0.1155 - val_accuracy: 0.9674\n",
      "Epoch 3/3\n",
      " 3808/48000 [=>............................] - ETA: 3s - loss: 0.1260 - accuracy: 0.96\n",
      " 8736/48000 [====>.........................] - ETA: 2s - loss: 0.1196 - accuracy: 0.96\n",
      "14048/48000 [=======>......................] - ETA: 2s - loss: 0.1204 - accuracy: 0.96\n",
      "19392/48000 [===========...................] - ETA: 1s - loss: 0.1170 - accuracy: 0.96\n",
      "23680/48000 [=============>................] - ETA: 1s - loss: 0.1171 - accuracy: 0.964\n",
      "28480/48000 [================>.............] - ETA: 1s - loss: 0.1194 - accuracy: 0.963\n",
      "33280/48000 [===================>..........] - ETA: 0s - loss: 0.1194 - accuracy: 0.963\n",
      "38432/48000 [=======================>......] - ETA: 0s - loss: 0.1194 - accuracy: 0.96\n",
      "43776/48000 [=========================>....] - ETA: 0s - loss: 0.1190 - accuracy: 0.96\n",
      "48000/48000 [==============================] - 3s 71us/sample - loss: 0.1186 - accuracy: 0.9636 - val_loss: 0.0958 - val_accuracy: 0.9728\n",
      "2020-12-07 13:39:13.050481: W tensorflow/core/framework/cpu_allocator_impl.cc:81] Allocation of 62720000 exceeds 10% of system memory.\n",
      "Test accuracy:  0.9717\n"
     ]
    },
    {
     "name": "stderr",
     "output_type": "stream",
     "text": [
      "[W 201207 13:39:14 job:173] Cleaning up job fairing-job-7gtw7...\n"
     ]
    }
   ],
   "source": [
    "from kubeflow import fairing\n",
    "\n",
    "PRIVATE_REGISTRY = 'kubeflow-registry.default.svc.cluster.local:30000'\n",
    "\n",
    "fairing.config.set_builder(\n",
    "    'append',\n",
    "    # base_image = 'tensorflow/tensorflow:2.0.3-gpu-py3',\n",
    "    base_image = f'{PRIVATE_REGISTRY}/kf-base:latest', \n",
    "    registry = PRIVATE_REGISTRY, \n",
    "    push=True\n",
    ")\n",
    "\n",
    "fairing.config.set_deployer('job')\n",
    "\n",
    "remote_train = fairing.config.fn(train)\n",
    "\n",
    "remote_train()"
   ]
  },
  {
   "cell_type": "markdown",
   "metadata": {
    "tags": []
   },
   "source": [
    "### curl로 프라이빗 레지스트리 확인"
   ]
  },
  {
   "cell_type": "code",
   "execution_count": 10,
   "metadata": {
    "tags": []
   },
   "outputs": [
    {
     "name": "stdout",
     "output_type": "stream",
     "text": [
      "{\"repositories\":[\"fairing-job\",\"kf-base\"]}\n"
     ]
    }
   ],
   "source": [
    "! curl http://kubeflow-registry.default.svc.cluster.local:30000/v2/_catalog"
   ]
  },
  {
   "cell_type": "code",
   "execution_count": 11,
   "metadata": {
    "tags": []
   },
   "outputs": [
    {
     "name": "stdout",
     "output_type": "stream",
     "text": [
      "{\"name\":\"fairing-job\",\"tags\":[\"3C85C94C\",\"A7B848D0\",\"C76C9E73\"]}\n"
     ]
    }
   ],
   "source": [
    "! curl http://kubeflow-registry.default.svc.cluster.local:30000/v2/fairing-job/tags/list"
   ]
  },
  {
   "cell_type": "markdown",
   "metadata": {
    "tags": []
   },
   "source": [
    "# Function Fairing 패키지 버전 이슈\n",
    "Function Fairing 시 fairing SDK가 컨테이너 내부에서 아래와 같은 명령을 실행\n",
    "```python\n",
    "python /app/function_shim.py --serialized_fn_file /app/pickled_fn.p --python_version 3.6\n",
    "```\n",
    "결과는 에러.\n",
    "\n",
    "다음과 같이 테스트 하여 실행 성공과 실패 케이스를 정리함\n",
    "\n",
    "- 실행 실패\n",
    "  - base_image = f'{PRIVATE_REGISTRY}/kf-base:latest', # 사전준비에서 마련한 Base Image  \n",
    "  - base_image = 'tensorflow/tensorflow:latest-py3',   \n",
    "  - base_image = 'tensorflow/tensorflow:2.1.2-gpu',    \n",
    "  - Base Image에 pip install tensorflow-gpu   <- 최신 2.3.1 설치됨\n",
    "- 실행 성공  \n",
    "  - base_image = 'brightfly/kubeflow-jupyter-lab:tf2.0-gpu', <- 실마리\n",
    "  - base_image = 'tensorflow/tensorflow:2.0.3-gpu-py3',\n",
    "  - Base Image에 pip install tensorflow-gpu==2.0.0 "
   ]
  },
  {
   "cell_type": "code",
   "execution_count": null,
   "metadata": {},
   "outputs": [],
   "source": []
  }
 ],
 "metadata": {
  "kernelspec": {
   "display_name": "Python 3",
   "language": "python",
   "name": "python3"
  },
  "kubeflow_notebook": {
   "docker_image": "reddiana/jupyterlab-kale:0.0.9",
   "experiment": {
    "id": "",
    "name": ""
   },
   "experiment_name": "",
   "katib_metadata": {
    "algorithm": {
     "algorithmName": "grid"
    },
    "maxFailedTrialCount": 3,
    "maxTrialCount": 12,
    "objective": {
     "objectiveMetricName": "",
     "type": "minimize"
    },
    "parallelTrialCount": 3,
    "parameters": []
   },
   "katib_run": false,
   "pipeline_description": "",
   "pipeline_name": "",
   "volumes": []
  },
  "language_info": {
   "codemirror_mode": {
    "name": "ipython",
    "version": 3
   },
   "file_extension": ".py",
   "mimetype": "text/x-python",
   "name": "python",
   "nbconvert_exporter": "python",
   "pygments_lexer": "ipython3",
   "version": "3.6.9"
  }
 },
 "nbformat": 4,
 "nbformat_minor": 4
}
