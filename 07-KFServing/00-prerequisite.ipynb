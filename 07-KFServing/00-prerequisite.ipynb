{
 "cells": [
  {
   "cell_type": "markdown",
   "metadata": {
    "tags": []
   },
   "source": [
    "# 07-KFServing 실습 사전 준비"
   ]
  },
  {
   "cell_type": "markdown",
   "metadata": {
    "tags": []
   },
   "source": [
    "## Covid19 Model을 학습하여 Minio에 저장\n",
    "아래 링크의 노트북을 실행\n",
    "- Covid19-Pneumonia-3-categories-classification Model 빌드\n",
    "- 빌드한 Model을 Minio에 저장\n",
    "\n",
    "실행 -> [00-covid19_init.ipynb](../01-prerequisite/00-covid19_init.ipynb)"
   ]
  },
  {
   "cell_type": "markdown",
   "metadata": {
    "tags": []
   },
   "source": [
    "# Test json 확보\n",
    "위 노트북을 실행하면 image_data.json이 생성된다.\n",
    "curl 호출시 이 json으로 전송한다"
   ]
  },
  {
   "cell_type": "markdown",
   "metadata": {
    "tags": []
   },
   "source": [
    "# cURL을 이용하여 Test\n",
    "```bash\n",
    "MODEL_NAME=covid19\n",
    "TEST_JSON=\"../01-prerequisite/image_data.json\"\n",
    "\n",
    "# Jupyter Notebook Terminal (K8s 내부)에서 실행 시\n",
    "INGRESS_HOST=kfserving-ingressgateway.istio-system\n",
    "INGRESS_PORT=80\n",
    "\n",
    "# Host ssh 접속하여 (K8s 외부) 실행 시\n",
    "# INGRESS_HOST=<VM 외부 IP>\n",
    "# INGRESS_PORT=32380\n",
    "\n",
    "SERVICE_HOSTNAME=$(kubectl get inferenceservice -n myspace $MODEL_NAME -o jsonpath='{.status.url}' | cut -d \"/\" -f 3)\n",
    "SERVING_URL=http://${INGRESS_HOST}:${INGRESS_PORT}/v1/models/$MODEL_NAME:predict\n",
    "\n",
    "curl -v -H \"Host: ${SERVICE_HOSTNAME}\" ${SERVING_URL} -d @${TEST_JSON}\n",
    "```"
   ]
  },
  {
   "cell_type": "code",
   "execution_count": 1,
   "metadata": {},
   "outputs": [
    {
     "name": "stdout",
     "output_type": "stream",
     "text": [
      "*   Trying 35.206.247.237...\n",
      "* TCP_NODELAY set\n",
      "* Connected to 35.206.247.237 (35.206.247.237) port 32380 (#0)\n",
      "> POST /v1/models/kfserving-covid19:predict HTTP/1.1\n",
      "> Host: kfserving-covid19.kubeflow.example.com\n",
      "> User-Agent: curl/7.58.0\n",
      "> Accept: */*\n",
      "> Content-Length: 4030484\n",
      "> Content-Type: application/x-www-form-urlencoded\n",
      "> Expect: 100-continue\n",
      "> \n",
      "< HTTP/1.1 100 Continue\n",
      "* We are completely uploaded and fine\n",
      "< HTTP/1.1 503 Service Unavailable\n",
      "< content-type: text/plain; charset=utf-8\n",
      "< x-content-type-options: nosniff\n",
      "< date: Mon, 07 Dec 2020 17:16:26 GMT\n",
      "< content-length: 26\n",
      "< server: istio-envoy\n",
      "< x-envoy-upstream-service-time: 478723\n",
      "< \n",
      "context deadline exceeded\n",
      "* Connection #0 to host 35.206.247.237 left intact\n"
     ]
    }
   ],
   "source": [
    "! curl -v -H \"Host: kfserving-covid19.kubeflow.example.com\" http://35.206.247.237:32380/v1/models/kfserving-covid19:predict -d@../01-prerequisite/image_data.json"
   ]
  },
  {
   "cell_type": "code",
   "execution_count": null,
   "metadata": {},
   "outputs": [],
   "source": []
  }
 ],
 "metadata": {
  "kernelspec": {
   "display_name": "Python 3",
   "language": "python",
   "name": "python3"
  },
  "kubeflow_notebook": {
   "docker_image": "reddiana/jupyterlab-kale:latest",
   "experiment": {
    "id": "",
    "name": ""
   },
   "experiment_name": "",
   "katib_metadata": {
    "algorithm": {
     "algorithmName": "grid"
    },
    "maxFailedTrialCount": 3,
    "maxTrialCount": 12,
    "objective": {
     "objectiveMetricName": "",
     "type": "minimize"
    },
    "parallelTrialCount": 3,
    "parameters": []
   },
   "katib_run": false,
   "pipeline_description": "",
   "pipeline_name": "",
   "volumes": []
  },
  "language_info": {
   "codemirror_mode": {
    "name": "ipython",
    "version": 3
   },
   "file_extension": ".py",
   "mimetype": "text/x-python",
   "name": "python",
   "nbconvert_exporter": "python",
   "pygments_lexer": "ipython3",
   "version": "3.6.9"
  }
 },
 "nbformat": 4,
 "nbformat_minor": 4
}
